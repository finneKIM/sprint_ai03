{
 "cells": [
  {
   "cell_type": "code",
   "execution_count": 1,
   "id": "b0e00cd3-b5f6-4758-bef5-8db7d04e400f",
   "metadata": {},
   "outputs": [
    {
     "data": {
      "text/plain": [
       "'/home/jovyan/work/shared'"
      ]
     },
     "execution_count": 1,
     "metadata": {},
     "output_type": "execute_result"
    }
   ],
   "source": [
    "pwd"
   ]
  },
  {
   "cell_type": "code",
   "execution_count": 2,
   "id": "9d733070-365c-4c02-b7d3-c1f30ca05bff",
   "metadata": {},
   "outputs": [
    {
     "name": "stdout",
     "output_type": "stream",
     "text": [
      "inference.ipynb      model.pkl   train_log.txt      Untitled.ipynb\n",
      "\u001b[0m\u001b[01;32mmission15_test.csv\u001b[0m*  result.csv  train_report.json\n"
     ]
    }
   ],
   "source": [
    "ls"
   ]
  },
  {
   "cell_type": "code",
   "execution_count": 3,
   "id": "526d3038-d8d4-41d0-af62-87dc6bb0662b",
   "metadata": {},
   "outputs": [
    {
     "name": "stdout",
     "output_type": "stream",
     "text": [
      "['.ipynb_checkpoints', 'inference.ipynb', 'mission15_test.csv', 'model.pkl', 'result.csv', 'train_log.txt', 'train_report.json', 'Untitled.ipynb']\n",
      "train.csv 존재 여부: False\n"
     ]
    }
   ],
   "source": [
    "# 1-1) 현재 공유 폴더 내용 다시 점검 셀임\n",
    "import os                                                            # 경로·파일 확인용 임포트임\n",
    "shared = \"/home/jovyan/work/shared\"                                  # 공유 폴더 경로 지정임\n",
    "print(os.listdir(shared))                                            # 폴더 내 파일 목록 출력임\n",
    "print(\"train.csv 존재 여부:\", os.path.exists(f\"{shared}/mission15_train.csv\"))  # 존재성 확인임\n"
   ]
  },
  {
   "cell_type": "code",
   "execution_count": 5,
   "id": "186974d2-4281-4112-9108-d3acb1bbdc7e",
   "metadata": {},
   "outputs": [
    {
     "name": "stdout",
     "output_type": "stream",
     "text": [
      "Pipeline(steps=[('prep',\n",
      "                 ColumnTransformer(transformers=[('num',\n",
      "                                                  Pipeline(steps=[('scaler',\n",
      "                                                                   StandardScaler())]),\n",
      "                                                  ['Hours Studied',\n",
      "                                                   'Previous Scores',\n",
      "                                                   'Sleep Hours',\n",
      "                                                   'Sample Question Papers '\n",
      "                                                   'Practiced']),\n",
      "                                                 ('cat',\n",
      "                                                  Pipeline(steps=[('ohe',\n",
      "                                                                   OneHotEncoder(handle_unknown='ignore'))]),\n",
      "                                                  ['Extracurricular '\n",
      "                                                   'Activities'])])),\n",
      "                ('rf',\n",
      "                 RandomForestRegressor(n_estimators=200, n_jobs=-1,\n",
      "                                       random_state=42))])\n"
     ]
    }
   ],
   "source": [
    "# 1-2) model.pkl 내부 모델 타입 확인 셀임\n",
    "import joblib                                                         # 모델 로드용 임포트임\n",
    "model = joblib.load(f\"{shared}/model.pkl\")                            # 파이프라인 로드임\n",
    "print(model)                                                          # 전체 파이프라인 구조 출력임\n",
    "# 트리 기반(RandomForest/GradientBoosting 등) 여부를 육안 확인 목적임\n",
    "# 예: Pipeline(steps=[('preprocess', ...), ('model', RandomForestRegressor(...))])\n"
   ]
  },
  {
   "cell_type": "code",
   "execution_count": null,
   "id": "01350c94-17d0-4ec2-b4ef-6eee4f4286ab",
   "metadata": {},
   "outputs": [],
   "source": []
  }
 ],
 "metadata": {
  "kernelspec": {
   "display_name": "Python 3 (ipykernel)",
   "language": "python",
   "name": "python3"
  },
  "language_info": {
   "codemirror_mode": {
    "name": "ipython",
    "version": 3
   },
   "file_extension": ".py",
   "mimetype": "text/x-python",
   "name": "python",
   "nbconvert_exporter": "python",
   "pygments_lexer": "ipython3",
   "version": "3.11.6"
  }
 },
 "nbformat": 4,
 "nbformat_minor": 5
}
