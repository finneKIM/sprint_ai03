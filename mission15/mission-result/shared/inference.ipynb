{
 "cells": [
  {
   "cell_type": "code",
   "execution_count": 3,
   "id": "9e707ebb-444b-4523-b9bf-63dcb45953c5",
   "metadata": {},
   "outputs": [],
   "source": [
    "import os\n",
    "import joblib    # model.pkl로드\n",
    "import pandas as pd"
   ]
  },
  {
   "cell_type": "code",
   "execution_count": 4,
   "id": "aa822ed3-5ac0-4c57-93fb-db44a08c96dd",
   "metadata": {},
   "outputs": [],
   "source": [
    "# 1. 경로설정\n",
    "\n",
    "shared_dir = \"/home/jovyan/work/shared\"\n",
    "model_path = os.path.join(shared_dir, \"model.pkl\")\n",
    "test_path = os.path.join(shared_dir, \"mission15_test.csv\")\n",
    "out_path = os.path.join(shared_dir, \"result.csv\")"
   ]
  },
  {
   "cell_type": "code",
   "execution_count": 5,
   "id": "6243649e-3bdf-4ad1-9ef8-5052aa9f63d5",
   "metadata": {},
   "outputs": [],
   "source": [
    "# 2. 파일 존재 점검\n",
    "assert os.path.exists(model_path), f\"모델 없음: {model_path}\"\n",
    "assert os.path.exists(test_path), f\"테스트 데이터 없음: {test.path}\""
   ]
  },
  {
   "cell_type": "code",
   "execution_count": 7,
   "id": "d07edde5-531c-40fd-bb3a-adb2e3fa0980",
   "metadata": {},
   "outputs": [],
   "source": [
    "# 3. 로드 & 데이터 읽기\n",
    "model = joblib.load(model_path)\n",
    "# 전처리 + 모델 결합된 파이프 라인 로드임\n",
    "\n",
    "test_df = pd.read_csv(test_path)"
   ]
  },
  {
   "cell_type": "code",
   "execution_count": 8,
   "id": "7f0b548c-aefe-4f68-91a2-5e9ef67d0a2f",
   "metadata": {},
   "outputs": [],
   "source": [
    "# 4. 컬럼확인 : 학습 시 사용하는 피처가 다 있는지 확인\n",
    "\n",
    "expected_features = [\n",
    "    \"Hours Studied\",\n",
    "    \"Previous Scores\",\n",
    "    \"Extracurricular Activities\",\n",
    "    \"Sleep Hours\",\n",
    "    \"Sample Question Papers Practiced\",\n",
    "]\n",
    "missing = [c for c in expected_features if c not in test_df.columns]\n",
    "assert not missing, f\"테스트 데이터에 누락 컬럼 있음: {missing}\""
   ]
  },
  {
   "cell_type": "code",
   "execution_count": 10,
   "id": "a335cc90-d678-46d7-bfe9-d9172ce2fe69",
   "metadata": {},
   "outputs": [],
   "source": [
    "# 예측 수정\n",
    "\n",
    "# 파이프라인이 내부에서 전처리 -> 예측까지 자동 수행\n",
    "pred = model.predict(test_df)\n"
   ]
  },
  {
   "cell_type": "code",
   "execution_count": 12,
   "id": "188f1bfd-200c-48ab-8b9a-be3943dd7a98",
   "metadata": {},
   "outputs": [
    {
     "name": "stdout",
     "output_type": "stream",
     "text": [
      "[DONE] 추론 완료 -> /home/jovyan/work/shared/result.csv\n"
     ]
    }
   ],
   "source": [
    "# 6. 결과 저장\n",
    "result_df = test_df.copy()    # 원본 보존 + 예측값 붙이기\n",
    "result_df[\"Predicted Performance Index\"] = pred\n",
    "# 엑셀 호환용\n",
    "result_df.to_csv(out_path, index=False, encoding=\"utf-8-sig\")\n",
    "\n",
    "print(f\"[DONE] 추론 완료 -> {out_path}\")"
   ]
  },
  {
   "cell_type": "code",
   "execution_count": 13,
   "id": "98725fda-0c70-4c78-a8f3-78e3b9a1f4e1",
   "metadata": {},
   "outputs": [
    {
     "data": {
      "text/html": [
       "<div>\n",
       "<style scoped>\n",
       "    .dataframe tbody tr th:only-of-type {\n",
       "        vertical-align: middle;\n",
       "    }\n",
       "\n",
       "    .dataframe tbody tr th {\n",
       "        vertical-align: top;\n",
       "    }\n",
       "\n",
       "    .dataframe thead th {\n",
       "        text-align: right;\n",
       "    }\n",
       "</style>\n",
       "<table border=\"1\" class=\"dataframe\">\n",
       "  <thead>\n",
       "    <tr style=\"text-align: right;\">\n",
       "      <th></th>\n",
       "      <th>Hours Studied</th>\n",
       "      <th>Previous Scores</th>\n",
       "      <th>Extracurricular Activities</th>\n",
       "      <th>Sleep Hours</th>\n",
       "      <th>Sample Question Papers Practiced</th>\n",
       "      <th>Predicted Performance Index</th>\n",
       "    </tr>\n",
       "  </thead>\n",
       "  <tbody>\n",
       "    <tr>\n",
       "      <th>0</th>\n",
       "      <td>7</td>\n",
       "      <td>99</td>\n",
       "      <td>Yes</td>\n",
       "      <td>9</td>\n",
       "      <td>1</td>\n",
       "      <td>89.581667</td>\n",
       "    </tr>\n",
       "    <tr>\n",
       "      <th>1</th>\n",
       "      <td>8</td>\n",
       "      <td>51</td>\n",
       "      <td>Yes</td>\n",
       "      <td>7</td>\n",
       "      <td>2</td>\n",
       "      <td>44.243333</td>\n",
       "    </tr>\n",
       "    <tr>\n",
       "      <th>2</th>\n",
       "      <td>8</td>\n",
       "      <td>91</td>\n",
       "      <td>No</td>\n",
       "      <td>4</td>\n",
       "      <td>5</td>\n",
       "      <td>86.074167</td>\n",
       "    </tr>\n",
       "    <tr>\n",
       "      <th>3</th>\n",
       "      <td>5</td>\n",
       "      <td>79</td>\n",
       "      <td>No</td>\n",
       "      <td>7</td>\n",
       "      <td>8</td>\n",
       "      <td>66.436083</td>\n",
       "    </tr>\n",
       "    <tr>\n",
       "      <th>4</th>\n",
       "      <td>2</td>\n",
       "      <td>72</td>\n",
       "      <td>No</td>\n",
       "      <td>4</td>\n",
       "      <td>3</td>\n",
       "      <td>49.315000</td>\n",
       "    </tr>\n",
       "  </tbody>\n",
       "</table>\n",
       "</div>"
      ],
      "text/plain": [
       "   Hours Studied  Previous Scores Extracurricular Activities  Sleep Hours  \\\n",
       "0              7               99                        Yes            9   \n",
       "1              8               51                        Yes            7   \n",
       "2              8               91                         No            4   \n",
       "3              5               79                         No            7   \n",
       "4              2               72                         No            4   \n",
       "\n",
       "   Sample Question Papers Practiced  Predicted Performance Index  \n",
       "0                                 1                    89.581667  \n",
       "1                                 2                    44.243333  \n",
       "2                                 5                    86.074167  \n",
       "3                                 8                    66.436083  \n",
       "4                                 3                    49.315000  "
      ]
     },
     "metadata": {},
     "output_type": "display_data"
    }
   ],
   "source": [
    "display(result_df.head())"
   ]
  },
  {
   "cell_type": "code",
   "execution_count": 14,
   "id": "ece9af4e-a0a6-4421-ae97-7479f5535a77",
   "metadata": {},
   "outputs": [
    {
     "data": {
      "text/html": [
       "<div>\n",
       "<style scoped>\n",
       "    .dataframe tbody tr th:only-of-type {\n",
       "        vertical-align: middle;\n",
       "    }\n",
       "\n",
       "    .dataframe tbody tr th {\n",
       "        vertical-align: top;\n",
       "    }\n",
       "\n",
       "    .dataframe thead th {\n",
       "        text-align: right;\n",
       "    }\n",
       "</style>\n",
       "<table border=\"1\" class=\"dataframe\">\n",
       "  <thead>\n",
       "    <tr style=\"text-align: right;\">\n",
       "      <th></th>\n",
       "      <th>Hours Studied</th>\n",
       "      <th>Previous Scores</th>\n",
       "      <th>Sleep Hours</th>\n",
       "      <th>Sample Question Papers Practiced</th>\n",
       "      <th>Predicted Performance Index</th>\n",
       "    </tr>\n",
       "  </thead>\n",
       "  <tbody>\n",
       "    <tr>\n",
       "      <th>count</th>\n",
       "      <td>3000.000000</td>\n",
       "      <td>3000.000000</td>\n",
       "      <td>3000.000000</td>\n",
       "      <td>3000.000000</td>\n",
       "      <td>3000.000000</td>\n",
       "    </tr>\n",
       "    <tr>\n",
       "      <th>mean</th>\n",
       "      <td>5.093000</td>\n",
       "      <td>69.483000</td>\n",
       "      <td>6.530667</td>\n",
       "      <td>4.527000</td>\n",
       "      <td>55.577590</td>\n",
       "    </tr>\n",
       "    <tr>\n",
       "      <th>std</th>\n",
       "      <td>2.583907</td>\n",
       "      <td>17.471237</td>\n",
       "      <td>1.695489</td>\n",
       "      <td>2.875882</td>\n",
       "      <td>19.260615</td>\n",
       "    </tr>\n",
       "    <tr>\n",
       "      <th>min</th>\n",
       "      <td>1.000000</td>\n",
       "      <td>40.000000</td>\n",
       "      <td>4.000000</td>\n",
       "      <td>0.000000</td>\n",
       "      <td>12.195000</td>\n",
       "    </tr>\n",
       "    <tr>\n",
       "      <th>25%</th>\n",
       "      <td>3.000000</td>\n",
       "      <td>54.000000</td>\n",
       "      <td>5.000000</td>\n",
       "      <td>2.000000</td>\n",
       "      <td>40.596250</td>\n",
       "    </tr>\n",
       "    <tr>\n",
       "      <th>50%</th>\n",
       "      <td>5.000000</td>\n",
       "      <td>69.000000</td>\n",
       "      <td>7.000000</td>\n",
       "      <td>5.000000</td>\n",
       "      <td>55.527500</td>\n",
       "    </tr>\n",
       "    <tr>\n",
       "      <th>75%</th>\n",
       "      <td>7.000000</td>\n",
       "      <td>85.000000</td>\n",
       "      <td>8.000000</td>\n",
       "      <td>7.000000</td>\n",
       "      <td>71.040000</td>\n",
       "    </tr>\n",
       "    <tr>\n",
       "      <th>max</th>\n",
       "      <td>9.000000</td>\n",
       "      <td>99.000000</td>\n",
       "      <td>9.000000</td>\n",
       "      <td>9.000000</td>\n",
       "      <td>98.690000</td>\n",
       "    </tr>\n",
       "  </tbody>\n",
       "</table>\n",
       "</div>"
      ],
      "text/plain": [
       "       Hours Studied  Previous Scores  Sleep Hours  \\\n",
       "count    3000.000000      3000.000000  3000.000000   \n",
       "mean        5.093000        69.483000     6.530667   \n",
       "std         2.583907        17.471237     1.695489   \n",
       "min         1.000000        40.000000     4.000000   \n",
       "25%         3.000000        54.000000     5.000000   \n",
       "50%         5.000000        69.000000     7.000000   \n",
       "75%         7.000000        85.000000     8.000000   \n",
       "max         9.000000        99.000000     9.000000   \n",
       "\n",
       "       Sample Question Papers Practiced  Predicted Performance Index  \n",
       "count                       3000.000000                  3000.000000  \n",
       "mean                           4.527000                    55.577590  \n",
       "std                            2.875882                    19.260615  \n",
       "min                            0.000000                    12.195000  \n",
       "25%                            2.000000                    40.596250  \n",
       "50%                            5.000000                    55.527500  \n",
       "75%                            7.000000                    71.040000  \n",
       "max                            9.000000                    98.690000  "
      ]
     },
     "execution_count": 14,
     "metadata": {},
     "output_type": "execute_result"
    }
   ],
   "source": [
    "# 결과 통계 요약 \n",
    "result_df.describe()"
   ]
  },
  {
   "cell_type": "code",
   "execution_count": 17,
   "id": "1817f82c-7ef9-4754-ab4b-8485743a48a0",
   "metadata": {},
   "outputs": [
    {
     "name": "stdout",
     "output_type": "stream",
     "text": [
      "matplotlib: 3.8.4\n",
      "pandas: 2.2.2\n",
      "numpy: 1.26.4\n"
     ]
    }
   ],
   "source": [
    "import matplotlib\n",
    "import pandas as pd\n",
    "import numpy as np\n",
    "print(\"matplotlib:\", matplotlib.__version__)  # 설치 버전 확인 목적임\n",
    "print(\"pandas:\", pd.__version__)              # pandas 버전 확인 목적임\n",
    "print(\"numpy:\", np.__version__)               # numpy 버전 확인 목적임"
   ]
  },
  {
   "cell_type": "code",
   "execution_count": 29,
   "id": "5266c830-f4ae-4583-9489-57f420b69b76",
   "metadata": {},
   "outputs": [
    {
     "data": {
      "text/plain": [
       "Text(0, 0.5, 'Frequency')"
      ]
     },
     "execution_count": 29,
     "metadata": {},
     "output_type": "execute_result"
    },
    {
     "data": {
      "image/png": "[encoded data removed]",
      "text/plain": [
       "<Figure size 640x480 with 1 Axes>"
      ]
     },
     "metadata": {},
     "output_type": "display_data"
    }
   ],
   "source": [
    "# 히스토그램으로 확인 - 예측분포\n",
    "ax = result_df[\"Predicted Performance Index\"].hist(bins=100)\n",
    "ax.set_title(\"Predicted Performance Index Distribution\")\n",
    "ax.set_xlabel(\"Predicted Performance Index\")\n",
    "ax.set_ylabel(\"Frequency\")"
   ]
  },
  {
   "cell_type": "code",
   "execution_count": 33,
   "id": "caa73bb2-30df-4413-93c1-db36d703f157",
   "metadata": {
    "scrolled": true
   },
   "outputs": [
    {
     "name": "stdout",
     "output_type": "stream",
     "text": [
      "40~44 구간 데이터 개수: 238\n"
     ]
    },
    {
     "data": {
      "text/html": [
       "<div>\n",
       "<style scoped>\n",
       "    .dataframe tbody tr th:only-of-type {\n",
       "        vertical-align: middle;\n",
       "    }\n",
       "\n",
       "    .dataframe tbody tr th {\n",
       "        vertical-align: top;\n",
       "    }\n",
       "\n",
       "    .dataframe thead th {\n",
       "        text-align: right;\n",
       "    }\n",
       "</style>\n",
       "<table border=\"1\" class=\"dataframe\">\n",
       "  <thead>\n",
       "    <tr style=\"text-align: right;\">\n",
       "      <th></th>\n",
       "      <th>Hours Studied</th>\n",
       "      <th>Previous Scores</th>\n",
       "      <th>Sleep Hours</th>\n",
       "      <th>Sample Question Papers Practiced</th>\n",
       "      <th>Predicted Performance Index</th>\n",
       "    </tr>\n",
       "  </thead>\n",
       "  <tbody>\n",
       "    <tr>\n",
       "      <th>count</th>\n",
       "      <td>238.00000</td>\n",
       "      <td>238.000000</td>\n",
       "      <td>238.000000</td>\n",
       "      <td>238.000000</td>\n",
       "      <td>238.000000</td>\n",
       "    </tr>\n",
       "    <tr>\n",
       "      <th>mean</th>\n",
       "      <td>5.02521</td>\n",
       "      <td>56.247899</td>\n",
       "      <td>6.428571</td>\n",
       "      <td>4.361345</td>\n",
       "      <td>41.879862</td>\n",
       "    </tr>\n",
       "    <tr>\n",
       "      <th>std</th>\n",
       "      <td>2.49036</td>\n",
       "      <td>7.267747</td>\n",
       "      <td>1.738477</td>\n",
       "      <td>2.977358</td>\n",
       "      <td>1.115074</td>\n",
       "    </tr>\n",
       "    <tr>\n",
       "      <th>min</th>\n",
       "      <td>1.00000</td>\n",
       "      <td>43.000000</td>\n",
       "      <td>4.000000</td>\n",
       "      <td>0.000000</td>\n",
       "      <td>40.001667</td>\n",
       "    </tr>\n",
       "    <tr>\n",
       "      <th>25%</th>\n",
       "      <td>3.00000</td>\n",
       "      <td>51.000000</td>\n",
       "      <td>5.000000</td>\n",
       "      <td>2.000000</td>\n",
       "      <td>40.961062</td>\n",
       "    </tr>\n",
       "    <tr>\n",
       "      <th>50%</th>\n",
       "      <td>5.00000</td>\n",
       "      <td>56.000000</td>\n",
       "      <td>6.000000</td>\n",
       "      <td>4.000000</td>\n",
       "      <td>41.620208</td>\n",
       "    </tr>\n",
       "    <tr>\n",
       "      <th>75%</th>\n",
       "      <td>7.00000</td>\n",
       "      <td>62.000000</td>\n",
       "      <td>8.000000</td>\n",
       "      <td>7.000000</td>\n",
       "      <td>42.804833</td>\n",
       "    </tr>\n",
       "    <tr>\n",
       "      <th>max</th>\n",
       "      <td>9.00000</td>\n",
       "      <td>70.000000</td>\n",
       "      <td>9.000000</td>\n",
       "      <td>9.000000</td>\n",
       "      <td>43.975000</td>\n",
       "    </tr>\n",
       "  </tbody>\n",
       "</table>\n",
       "</div>"
      ],
      "text/plain": [
       "       Hours Studied  Previous Scores  Sleep Hours  \\\n",
       "count      238.00000       238.000000   238.000000   \n",
       "mean         5.02521        56.247899     6.428571   \n",
       "std          2.49036         7.267747     1.738477   \n",
       "min          1.00000        43.000000     4.000000   \n",
       "25%          3.00000        51.000000     5.000000   \n",
       "50%          5.00000        56.000000     6.000000   \n",
       "75%          7.00000        62.000000     8.000000   \n",
       "max          9.00000        70.000000     9.000000   \n",
       "\n",
       "       Sample Question Papers Practiced  Predicted Performance Index  \n",
       "count                        238.000000                   238.000000  \n",
       "mean                           4.361345                    41.879862  \n",
       "std                            2.977358                     1.115074  \n",
       "min                            0.000000                    40.001667  \n",
       "25%                            2.000000                    40.961062  \n",
       "50%                            4.000000                    41.620208  \n",
       "75%                            7.000000                    42.804833  \n",
       "max                            9.000000                    43.975000  "
      ]
     },
     "execution_count": 33,
     "metadata": {},
     "output_type": "execute_result"
    }
   ],
   "source": [
    "mask = (result_df[\"Predicted Performance Index\"] >= 40) & (result_df[\"Predicted Performance Index\"] < 44)\n",
    "subset = result_df[mask]\n",
    "print(\"40~44 구간 데이터 개수:\", len(subset))\n",
    "subset.describe()"
   ]
  },
  {
   "cell_type": "code",
   "execution_count": 43,
   "id": "a781f0f4-67ed-498c-b42b-8fea6c0116de",
   "metadata": {},
   "outputs": [
    {
     "name": "stdout",
     "output_type": "stream",
     "text": [
      "Pipeline(steps=[('prep',\n",
      "                 ColumnTransformer(transformers=[('num',\n",
      "                                                  Pipeline(steps=[('scaler',\n",
      "                                                                   StandardScaler())]),\n",
      "                                                  ['Hours Studied',\n",
      "                                                   'Previous Scores',\n",
      "                                                   'Sleep Hours',\n",
      "                                                   'Sample Question Papers '\n",
      "                                                   'Practiced']),\n",
      "                                                 ('cat',\n",
      "                                                  Pipeline(steps=[('ohe',\n",
      "                                                                   OneHotEncoder(handle_unknown='ignore'))]),\n",
      "                                                  ['Extracurricular '\n",
      "                                                   'Activities'])])),\n",
      "                ('rf',\n",
      "                 RandomForestRegressor(n_estimators=200, n_jobs=-1,\n",
      "                                       random_state=42))])\n"
     ]
    }
   ],
   "source": [
    "# 1-2) model.pkl 내부 모델 타입 확인 셀임\n",
    "import joblib                                                         \n",
    "# 모델 로드용 임포트임\n",
    "model = joblib.load(f\"{shared}/model.pkl\")                            \n",
    "# 파이프라인 로드임\n",
    "\n",
    "print(model)                                                          \n",
    "# 전체 파이프라인 구조 출력임\n",
    "\n",
    "# 트리 기반(RandomForest/GradientBoosting 등) 여부를 육안 확인 목적임\n",
    "# 예: Pipeline(steps=[('preprocess', ...), ('model', RandomForestRegressor(...))])\n"
   ]
  },
  {
   "cell_type": "markdown",
   "id": "aa0d5f8c-2d49-49e0-8294-0271f9052546",
   "metadata": {},
   "source": [
    "### **“이상치(outlier)”는 아님**\n",
    "\n",
    "- `describe()` 결과상 **평균(55.6)** 과 **표준편차(19.26)** 모두 정상 범위\n",
    "- 즉 “42 근처 피크”는 **데이터 이상이 아니라 예측값의 비연속성(discretization)** 이 원인임.\n",
    "- 모델이 특정 범위(중간 점수대)에서 출력이 덜 세밀할 뿐, 이상치는 아님."
   ]
  }
 ],
 "metadata": {
  "kernelspec": {
   "display_name": "Python 3 (ipykernel)",
   "language": "python",
   "name": "python3"
  },
  "language_info": {
   "codemirror_mode": {
    "name": "ipython",
    "version": 3
   },
   "file_extension": ".py",
   "mimetype": "text/x-python",
   "name": "python",
   "nbconvert_exporter": "python",
   "pygments_lexer": "ipython3",
   "version": "3.11.6"
  }
 },
 "nbformat": 4,
 "nbformat_minor": 5
}
